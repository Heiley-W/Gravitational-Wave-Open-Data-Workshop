{
  "nbformat": 4,
  "nbformat_minor": 0,
  "metadata": {
    "colab": {
      "provenance": [],
      "authorship_tag": "ABX9TyMLaSgdup5gC21EG3XvA8Lt",
      "include_colab_link": true
    },
    "kernelspec": {
      "name": "python3",
      "display_name": "Python 3"
    },
    "language_info": {
      "name": "python"
    }
  },
  "cells": [
    {
      "cell_type": "markdown",
      "metadata": {
        "id": "view-in-github",
        "colab_type": "text"
      },
      "source": [
        "<a href=\"https://colab.research.google.com/github/Heiley-W/Gravitational-Wave-Open-Data-Workshop/blob/main/summary/GW2_Q-transform.ipynb\" target=\"_parent\"><img src=\"https://colab.research.google.com/assets/colab-badge.svg\" alt=\"Open In Colab\"/></a>"
      ]
    },
    {
      "cell_type": "code",
      "execution_count": null,
      "metadata": {
        "id": "k2qpdgBzgnuo"
      },
      "outputs": [],
      "source": []
    },
    {
      "cell_type": "markdown",
      "source": [
        "## 1. Test\n"
      ],
      "metadata": {
        "id": "kdF3ktVHhReY"
      }
    },
    {
      "cell_type": "code",
      "source": [],
      "metadata": {
        "id": "_gcZ9_k3pzWp"
      },
      "execution_count": null,
      "outputs": []
    }
  ]
}